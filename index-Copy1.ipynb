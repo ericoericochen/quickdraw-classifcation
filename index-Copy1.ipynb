{
 "cells": [
  {
   "cell_type": "code",
   "execution_count": 3,
   "id": "ed08e7ea",
   "metadata": {},
   "outputs": [],
   "source": [
    "import torch\n",
    "import torch.nn as nn\n",
    "from torch.utils.data import DataLoader, random_split\n",
    "import numpy as np\n",
    "import matplotlib.pyplot as plt\n",
    "from dataset import QuickDrawDataset\n",
    "from tqdm import tqdm"
   ]
  },
  {
   "cell_type": "markdown",
   "id": "9edcc7a5",
   "metadata": {},
   "source": [
    "### Abstract\n",
    "TODO"
   ]
  },
  {
   "cell_type": "markdown",
   "id": "c844265d",
   "metadata": {},
   "source": [
    "### Load Dataset"
   ]
  },
  {
   "cell_type": "code",
   "execution_count": 4,
   "id": "32b2a441",
   "metadata": {},
   "outputs": [
    {
     "name": "stdout",
     "output_type": "stream",
     "text": [
      "[quickdraw dataset: root=/data, train=True, download=False]\n",
      "[quickdraw dataset: root=/data, train=False, download=False]\n"
     ]
    }
   ],
   "source": [
    "train_set = QuickDrawDataset(root=\"/data\", train=True, download=False)\n",
    "test_set = QuickDrawDataset(root=\"/data\", train=False, download=False)"
   ]
  },
  {
   "cell_type": "markdown",
   "id": "a39a933d",
   "metadata": {},
   "source": [
    "Split train dataset into train and validation"
   ]
  },
  {
   "cell_type": "code",
   "execution_count": 5,
   "id": "d9b71bca",
   "metadata": {},
   "outputs": [],
   "source": [
    "# train_set, val_set = random_split(train_set, [31050, 3450])"
   ]
  },
  {
   "cell_type": "code",
   "execution_count": 6,
   "id": "2c4e82a1",
   "metadata": {},
   "outputs": [],
   "source": [
    "batch_size = 128\n",
    "train_dataloader = DataLoader(train_set, batch_size=batch_size, shuffle=True)\n",
    "# val_dataloader = DataLoader(val_set, batch_size=batch_size, shuffle=True)\n",
    "test_dataloader = DataLoader(test_set, batch_size=batch_size, shuffle=True)"
   ]
  },
  {
   "cell_type": "code",
   "execution_count": 7,
   "id": "aa47683b",
   "metadata": {
    "scrolled": true
   },
   "outputs": [
    {
     "name": "stdout",
     "output_type": "stream",
     "text": [
      "torch.Size([1, 28, 28])\n"
     ]
    }
   ],
   "source": [
    "for x, y in train_set:\n",
    "    print(x.shape) # (N=1, H=28, W=28)\n",
    "    break"
   ]
  },
  {
   "cell_type": "markdown",
   "id": "66f7f527",
   "metadata": {},
   "source": [
    "### Labels for Dataset"
   ]
  },
  {
   "cell_type": "code",
   "execution_count": 8,
   "id": "7a54cfd4",
   "metadata": {},
   "outputs": [
    {
     "data": {
      "text/plain": [
       "345"
      ]
     },
     "execution_count": 8,
     "metadata": {},
     "output_type": "execute_result"
    }
   ],
   "source": [
    "categories = QuickDrawDataset.categories()\n",
    "num_categories = len(categories)\n",
    "len(categories)"
   ]
  },
  {
   "cell_type": "markdown",
   "id": "bba12b47",
   "metadata": {
    "scrolled": false
   },
   "source": [
    "### Visualize Dataset\n",
    "What does an airplane look like?"
   ]
  },
  {
   "cell_type": "code",
   "execution_count": 9,
   "id": "eb5224f3",
   "metadata": {},
   "outputs": [
    {
     "data": {
      "text/plain": [
       "<matplotlib.image.AxesImage at 0x16ca9ed90>"
      ]
     },
     "execution_count": 9,
     "metadata": {},
     "output_type": "execute_result"
    },
    {
     "data": {
      "image/png": "[encoded data removed]",
      "text/plain": [
       "<Figure size 640x480 with 1 Axes>"
      ]
     },
     "metadata": {},
     "output_type": "display_data"
    }
   ],
   "source": [
    "img, label = train_set[101]\n",
    "category = categories[label]\n",
    "plt.title(category)\n",
    "plt.imshow(img[0])"
   ]
  },
  {
   "cell_type": "markdown",
   "id": "68bb4b94",
   "metadata": {},
   "source": [
    "### Define Model\n",
    "MiniAlexNet: TODO"
   ]
  },
  {
   "cell_type": "code",
   "execution_count": 36,
   "id": "8886b544",
   "metadata": {},
   "outputs": [],
   "source": [
    "class MiniAlexNet(nn.Module):\n",
    "    def __init__(self, labels=10):\n",
    "        super().__init__()\n",
    "        self.conv = nn.Sequential(\n",
    "            nn.Conv2d(1, 96, kernel_size=3, stride=2, padding=1),\n",
    "            nn.ReLU(),\n",
    "            nn.BatchNorm2d(96),\n",
    "            nn.MaxPool2d(kernel_size=3, stride=1, padding=1),\n",
    "            \n",
    "            nn.Conv2d(96, 256, kernel_size=3, stride=2, padding=1),\n",
    "            nn.ReLU(),\n",
    "            nn.BatchNorm2d(256),\n",
    "            nn.MaxPool2d(kernel_size=3, stride=1, padding=1),\n",
    "            \n",
    "            nn.Conv2d(256, 384, kernel_size=3, stride=1, padding=1),\n",
    "            nn.ReLU(),\n",
    "            nn.Conv2d(384, 384, kernel_size=3, stride=1, padding=1),\n",
    "            nn.ReLU(),\n",
    "            nn.Conv2d(384, 256, kernel_size=3, stride=1, padding=1),\n",
    "            nn.ReLU(),\n",
    "            nn.MaxPool2d(kernel_size=3, stride=1),\n",
    "        )\n",
    "        self.nn = nn.Sequential(\n",
    "            nn.Dropout(p=0.5, inplace=False),\n",
    "            nn.Linear(6400, 1024),\n",
    "            nn.ReLU(),\n",
    "            nn.Dropout(p=0.5, inplace=False),\n",
    "            nn.Linear(1024, 1024),\n",
    "            nn.ReLU(),\n",
    "            nn.Linear(1024, labels),\n",
    "        )\n",
    "\n",
    "        self.init_bias()\n",
    "\n",
    "    def init_bias(self):\n",
    "        # with torch.no_grad():\n",
    "        for layer in self.conv:\n",
    "            if isinstance(layer, nn.Conv2d):\n",
    "                nn.init.normal_(layer.weight, mean=0, std=0.01)\n",
    "                nn.init.constant_(layer.bias, 0)\n",
    "        # original paper = 1 for Conv2d layers 2nd, 4th, and 5th conv layers\n",
    "        nn.init.constant_(self.conv[4].bias, 1)\n",
    "        nn.init.constant_(self.conv[10].bias, 1)\n",
    "        nn.init.constant_(self.conv[12].bias, 1)\n",
    "\n",
    "    def forward(self, x):\n",
    "        x = self.conv(x)\n",
    "\n",
    "#         print(x.shape)\n",
    "        x = x.reshape(x.size(0), -1)\n",
    "\n",
    "        # print(x.shape)\n",
    "        x = self.nn(x)\n",
    "\n",
    "        return x"
   ]
  },
  {
   "cell_type": "code",
   "execution_count": 37,
   "id": "c471eb37",
   "metadata": {},
   "outputs": [
    {
     "data": {
      "text/plain": [
       "MiniAlexNet(\n",
       "  (conv): Sequential(\n",
       "    (0): Conv2d(1, 96, kernel_size=(3, 3), stride=(2, 2), padding=(1, 1))\n",
       "    (1): ReLU()\n",
       "    (2): BatchNorm2d(96, eps=1e-05, momentum=0.1, affine=True, track_running_stats=True)\n",
       "    (3): MaxPool2d(kernel_size=3, stride=1, padding=1, dilation=1, ceil_mode=False)\n",
       "    (4): Conv2d(96, 256, kernel_size=(3, 3), stride=(2, 2), padding=(1, 1))\n",
       "    (5): ReLU()\n",
       "    (6): BatchNorm2d(256, eps=1e-05, momentum=0.1, affine=True, track_running_stats=True)\n",
       "    (7): MaxPool2d(kernel_size=3, stride=1, padding=1, dilation=1, ceil_mode=False)\n",
       "    (8): Conv2d(256, 384, kernel_size=(3, 3), stride=(1, 1), padding=(1, 1))\n",
       "    (9): ReLU()\n",
       "    (10): Conv2d(384, 384, kernel_size=(3, 3), stride=(1, 1), padding=(1, 1))\n",
       "    (11): ReLU()\n",
       "    (12): Conv2d(384, 256, kernel_size=(3, 3), stride=(1, 1), padding=(1, 1))\n",
       "    (13): ReLU()\n",
       "    (14): MaxPool2d(kernel_size=3, stride=1, padding=0, dilation=1, ceil_mode=False)\n",
       "  )\n",
       "  (nn): Sequential(\n",
       "    (0): Dropout(p=0.5, inplace=False)\n",
       "    (1): Linear(in_features=6400, out_features=1024, bias=True)\n",
       "    (2): ReLU()\n",
       "    (3): Dropout(p=0.5, inplace=False)\n",
       "    (4): Linear(in_features=1024, out_features=1024, bias=True)\n",
       "    (5): ReLU()\n",
       "    (6): Linear(in_features=1024, out_features=345, bias=True)\n",
       "  )\n",
       ")"
      ]
     },
     "execution_count": 37,
     "metadata": {},
     "output_type": "execute_result"
    }
   ],
   "source": [
    "device = torch.device(\"mps\")\n",
    "# device = \"cpu\"\n",
    "minialexnet = MiniAlexNet(labels=num_categories).to(device)\n",
    "minialexnet"
   ]
  },
  {
   "cell_type": "markdown",
   "id": "6f48e598",
   "metadata": {},
   "source": [
    "### Define Loss & Optimizer"
   ]
  },
  {
   "cell_type": "code",
   "execution_count": 38,
   "id": "28c186d1",
   "metadata": {},
   "outputs": [],
   "source": [
    "cross_entropy = nn.CrossEntropyLoss()\n",
    "optimizer = torch.optim.SGD(minialexnet.parameters(), weight_decay=0.0005, momentum=0.9, lr=0.01)"
   ]
  },
  {
   "cell_type": "markdown",
   "id": "c61d83b2",
   "metadata": {},
   "source": [
    "### Train Model"
   ]
  },
  {
   "cell_type": "code",
   "execution_count": 39,
   "id": "28088688",
   "metadata": {},
   "outputs": [
    {
     "data": {
      "text/plain": [
       "270"
      ]
     },
     "execution_count": 39,
     "metadata": {},
     "output_type": "execute_result"
    }
   ],
   "source": [
    "num_train_batches = len(train_dataloader)\n",
    "num_train_batches"
   ]
  },
  {
   "cell_type": "code",
   "execution_count": 40,
   "id": "529932f7",
   "metadata": {},
   "outputs": [],
   "source": [
    "def evaluate(model, dataloader, criterion):\n",
    "    total_loss = 0\n",
    "    model.eval()\n",
    "    \n",
    "    with torch.no_grad():\n",
    "        for X, Y in dataloader:\n",
    "            pred = model(X.to(device))\n",
    "            loss = criterion(pred, Y.to(device))\n",
    "            total_loss += loss.item()\n",
    "    \n",
    "    avg_loss = total_loss / len(dataloader)\n",
    "    return avg_loss    "
   ]
  },
  {
   "cell_type": "code",
   "execution_count": null,
   "id": "fc068808",
   "metadata": {
    "scrolled": true
   },
   "outputs": [
    {
     "name": "stdout",
     "output_type": "stream",
     "text": [
      "Training\n"
     ]
    },
    {
     "name": "stderr",
     "output_type": "stream",
     "text": [
      "Epoch 1 of 90: 100%|██████████████████████████| 270/270 [00:14<00:00, 18.94it/s]\n"
     ]
    },
    {
     "name": "stdout",
     "output_type": "stream",
     "text": [
      "Epoch [1/90], Loss: 5.848727333987201 Val Loss: 5.843558523390028\n"
     ]
    },
    {
     "name": "stderr",
     "output_type": "stream",
     "text": [
      "Epoch 2 of 90: 100%|██████████████████████████| 270/270 [00:13<00:00, 19.30it/s]\n"
     ]
    },
    {
     "name": "stdout",
     "output_type": "stream",
     "text": [
      "Epoch [2/90], Loss: 5.8445108131126124 Val Loss: 5.843475553724501\n"
     ]
    },
    {
     "name": "stderr",
     "output_type": "stream",
     "text": [
      "Epoch 3 of 90: 100%|██████████████████████████| 270/270 [00:13<00:00, 19.52it/s]\n"
     ]
    },
    {
     "name": "stdout",
     "output_type": "stream",
     "text": [
      "Epoch [3/90], Loss: 5.843915156964902 Val Loss: 5.84265712455467\n"
     ]
    },
    {
     "name": "stderr",
     "output_type": "stream",
     "text": [
      "Epoch 4 of 90: 100%|██████████████████████████| 270/270 [00:14<00:00, 19.27it/s]\n"
     ]
    },
    {
     "name": "stdout",
     "output_type": "stream",
     "text": [
      "Epoch [4/90], Loss: 5.769010822861283 Val Loss: 5.442041432415998\n"
     ]
    },
    {
     "name": "stderr",
     "output_type": "stream",
     "text": [
      "Epoch 5 of 90: 100%|██████████████████████████| 270/270 [00:13<00:00, 19.37it/s]\n"
     ]
    },
    {
     "name": "stdout",
     "output_type": "stream",
     "text": [
      "Epoch [5/90], Loss: 5.180219496621026 Val Loss: 4.850365974284984\n"
     ]
    },
    {
     "name": "stderr",
     "output_type": "stream",
     "text": [
      "Epoch 6 of 90: 100%|██████████████████████████| 270/270 [00:13<00:00, 19.50it/s]\n"
     ]
    },
    {
     "name": "stdout",
     "output_type": "stream",
     "text": [
      "Epoch [6/90], Loss: 4.721537097295125 Val Loss: 4.439039159704138\n"
     ]
    },
    {
     "name": "stderr",
     "output_type": "stream",
     "text": [
      "Epoch 7 of 90: 100%|██████████████████████████| 270/270 [00:14<00:00, 19.14it/s]\n"
     ]
    },
    {
     "name": "stdout",
     "output_type": "stream",
     "text": [
      "Epoch [7/90], Loss: 4.3175460250289355 Val Loss: 3.916799024299339\n"
     ]
    },
    {
     "name": "stderr",
     "output_type": "stream",
     "text": [
      "Epoch 8 of 90: 100%|██████████████████████████| 270/270 [00:15<00:00, 17.89it/s]\n"
     ]
    },
    {
     "name": "stdout",
     "output_type": "stream",
     "text": [
      "Epoch [8/90], Loss: 3.781332832795602 Val Loss: 3.5510506011821605\n"
     ]
    },
    {
     "name": "stderr",
     "output_type": "stream",
     "text": [
      "Epoch 9 of 90: 100%|██████████████████████████| 270/270 [00:14<00:00, 19.19it/s]\n"
     ]
    },
    {
     "name": "stdout",
     "output_type": "stream",
     "text": [
      "Epoch [9/90], Loss: 3.4035254345999824 Val Loss: 3.269751380991053\n"
     ]
    },
    {
     "name": "stderr",
     "output_type": "stream",
     "text": [
      "Epoch 10 of 90: 100%|█████████████████████████| 270/270 [00:13<00:00, 19.31it/s]\n"
     ]
    },
    {
     "name": "stdout",
     "output_type": "stream",
     "text": [
      "Epoch [10/90], Loss: 3.125554605766579 Val Loss: 3.051321603633739\n"
     ]
    },
    {
     "name": "stderr",
     "output_type": "stream",
     "text": [
      "Epoch 11 of 90: 100%|█████████████████████████| 270/270 [00:13<00:00, 19.29it/s]\n"
     ]
    },
    {
     "name": "stdout",
     "output_type": "stream",
     "text": [
      "Epoch [11/90], Loss: 2.928306977837174 Val Loss: 2.7932624375378645\n"
     ]
    },
    {
     "name": "stderr",
     "output_type": "stream",
     "text": [
      "Epoch 12 of 90: 100%|█████████████████████████| 270/270 [00:13<00:00, 19.77it/s]\n"
     ]
    },
    {
     "name": "stdout",
     "output_type": "stream",
     "text": [
      "Epoch [12/90], Loss: 2.7340126823495936 Val Loss: 2.718615523091069\n"
     ]
    },
    {
     "name": "stderr",
     "output_type": "stream",
     "text": [
      "Epoch 13 of 90: 100%|█████████████████████████| 270/270 [00:13<00:00, 19.34it/s]\n"
     ]
    },
    {
     "name": "stdout",
     "output_type": "stream",
     "text": [
      "Epoch [13/90], Loss: 2.5889559622164127 Val Loss: 2.646885112479881\n"
     ]
    },
    {
     "name": "stderr",
     "output_type": "stream",
     "text": [
      "Epoch 14 of 90: 100%|█████████████████████████| 270/270 [00:13<00:00, 19.81it/s]\n"
     ]
    },
    {
     "name": "stdout",
     "output_type": "stream",
     "text": [
      "Epoch [14/90], Loss: 2.4692279427139847 Val Loss: 2.584824217690362\n"
     ]
    },
    {
     "name": "stderr",
     "output_type": "stream",
     "text": [
      "Epoch 15 of 90: 100%|█████████████████████████| 270/270 [00:13<00:00, 19.79it/s]\n"
     ]
    },
    {
     "name": "stdout",
     "output_type": "stream",
     "text": [
      "Epoch [15/90], Loss: 2.325903390955042 Val Loss: 2.5810619725121393\n"
     ]
    },
    {
     "name": "stderr",
     "output_type": "stream",
     "text": [
      "Epoch 16 of 90: 100%|█████████████████████████| 270/270 [00:13<00:00, 19.88it/s]\n"
     ]
    },
    {
     "name": "stdout",
     "output_type": "stream",
     "text": [
      "Epoch [16/90], Loss: 2.225621584168187 Val Loss: 2.554436030211272\n"
     ]
    },
    {
     "name": "stderr",
     "output_type": "stream",
     "text": [
      "Epoch 17 of 90: 100%|█████████████████████████| 270/270 [00:13<00:00, 19.88it/s]\n"
     ]
    },
    {
     "name": "stdout",
     "output_type": "stream",
     "text": [
      "Epoch [17/90], Loss: 2.118399386494248 Val Loss: 2.4451884870175964\n"
     ]
    },
    {
     "name": "stderr",
     "output_type": "stream",
     "text": [
      "Epoch 18 of 90: 100%|█████████████████████████| 270/270 [00:13<00:00, 19.88it/s]\n"
     ]
    },
    {
     "name": "stdout",
     "output_type": "stream",
     "text": [
      "Epoch [18/90], Loss: 2.026791004339854 Val Loss: 2.4247074215500444\n"
     ]
    },
    {
     "name": "stderr",
     "output_type": "stream",
     "text": [
      "Epoch 19 of 90: 100%|█████████████████████████| 270/270 [00:13<00:00, 19.88it/s]\n"
     ]
    },
    {
     "name": "stdout",
     "output_type": "stream",
     "text": [
      "Epoch [19/90], Loss: 1.9367280324300131 Val Loss: 2.362658562483611\n"
     ]
    },
    {
     "name": "stderr",
     "output_type": "stream",
     "text": [
      "Epoch 20 of 90: 100%|█████████████████████████| 270/270 [00:13<00:00, 19.82it/s]\n"
     ]
    },
    {
     "name": "stdout",
     "output_type": "stream",
     "text": [
      "Epoch [20/90], Loss: 1.8466579649183485 Val Loss: 2.3623189837844283\n"
     ]
    },
    {
     "name": "stderr",
     "output_type": "stream",
     "text": [
      "Epoch 21 of 90: 100%|█████████████████████████| 270/270 [00:13<00:00, 19.88it/s]\n"
     ]
    },
    {
     "name": "stdout",
     "output_type": "stream",
     "text": [
      "Epoch [21/90], Loss: 1.7600484742058649 Val Loss: 2.360472228791979\n"
     ]
    },
    {
     "name": "stderr",
     "output_type": "stream",
     "text": [
      "Epoch 22 of 90: 100%|█████████████████████████| 270/270 [00:13<00:00, 19.88it/s]\n"
     ]
    },
    {
     "name": "stdout",
     "output_type": "stream",
     "text": [
      "Epoch [22/90], Loss: 1.6861869502950597 Val Loss: 2.3098037331192582\n"
     ]
    },
    {
     "name": "stderr",
     "output_type": "stream",
     "text": [
      "Epoch 23 of 90: 100%|█████████████████████████| 270/270 [00:13<00:00, 19.89it/s]\n"
     ]
    },
    {
     "name": "stdout",
     "output_type": "stream",
     "text": [
      "Epoch [23/90], Loss: 1.6059700581762526 Val Loss: 2.3274837025889643\n"
     ]
    },
    {
     "name": "stderr",
     "output_type": "stream",
     "text": [
      "Epoch 24 of 90: 100%|█████████████████████████| 270/270 [00:13<00:00, 19.84it/s]\n"
     ]
    },
    {
     "name": "stdout",
     "output_type": "stream",
     "text": [
      "Epoch [24/90], Loss: 1.5414190336509987 Val Loss: 2.3579341614687883\n"
     ]
    },
    {
     "name": "stderr",
     "output_type": "stream",
     "text": [
      "Epoch 25 of 90:  42%|██████████▌              | 114/270 [00:05<00:07, 19.83it/s]"
     ]
    }
   ],
   "source": [
    "epochs = 90\n",
    "train_losses = []\n",
    "val_losses = []\n",
    "\n",
    "print(\"Training\")\n",
    "for epoch in range(epochs):\n",
    "    # set mode to train\n",
    "    minialexnet.train()\n",
    "    \n",
    "    total_loss = 0\n",
    "    for i, (X, Y) in enumerate(tqdm(train_dataloader, desc=f\"Epoch {epoch + 1} of {epochs}\", leave=True)):\n",
    "        pred = minialexnet(X.to(device))\n",
    "        loss = cross_entropy(pred, Y.to(device))\n",
    "        \n",
    "        total_loss += loss.item()\n",
    "        \n",
    "        # backpropagation\n",
    "        loss.backward()\n",
    "        optimizer.step()\n",
    "        optimizer.zero_grad()\n",
    "        \n",
    "    # average loss over batches\n",
    "    avg_loss = total_loss / len(train_dataloader)\n",
    "    train_losses.append(avg_loss)\n",
    "    \n",
    "    # evaluate model on validation set\n",
    "    val_loss = evaluate(minialexnet, dataloader=test_dataloader, criterion=cross_entropy)\n",
    "    val_losses.append(val_loss)\n",
    "    \n",
    "    print(f\"Epoch [{epoch + 1}/{epochs}], Loss: {avg_loss} Val Loss: {val_loss}\")"
   ]
  },
  {
   "cell_type": "code",
   "execution_count": 35,
   "id": "9d996260",
   "metadata": {},
   "outputs": [
    {
     "data": {
      "text/plain": [
       "[<matplotlib.lines.Line2D at 0x287b41f10>]"
      ]
     },
     "execution_count": 35,
     "metadata": {},
     "output_type": "execute_result"
    },
    {
     "data": {
      "image/png": "[encoded data removed]",
      "text/plain": [
       "<Figure size 640x480 with 1 Axes>"
      ]
     },
     "metadata": {},
     "output_type": "display_data"
    }
   ],
   "source": [
    "plt.plot(range(epochs), train_losses)\n",
    "plt.plot(range(epochs), val_losses)"
   ]
  },
  {
   "cell_type": "code",
   "execution_count": 27,
   "id": "8da8df6e",
   "metadata": {},
   "outputs": [
    {
     "name": "stdout",
     "output_type": "stream",
     "text": [
      "tensor([[0., 0., 0., 0., 0., 0., 0., 0., 0., 0., 0., 0., 0., 0., 0., 0., 0., 0., 0., 0., 0., 0., 0., 0.,\n",
      "         0., 0., 0., 0., 0., 0., 0., 0., 0., 0., 0., 0., 0., 0., 0., 0., 0., 0., 0., 0., 0., 0., 0., 0.,\n",
      "         0., 0., 0., 0., 0., 0., 0., 0., 0., 0., 0., 0., 0., 0., 0., 0., 0., 0., 0., 0., 0., 0., 0., 0.,\n",
      "         0., 0., 0., 0., 0., 0., 0., 0., 0., 0., 0., 0., 0., 0., 0., 0., 0., 0., 0., 0., 0., 0., 0., 0.,\n",
      "         0., 0., 0., 0., 0., 0., 0., 0., 0., 0., 0., 0., 0., 0., 0., 0., 0., 0., 0., 0., 0., 0., 0., 0.,\n",
      "         0., 0., 0., 0., 0., 0., 0., 0., 0., 0., 0., 0., 0., 0., 0., 0., 0., 0., 0., 0., 0., 0., 0., 0.,\n",
      "         0., 0., 0., 0., 0., 0., 0., 0., 0., 0., 0., 0., 0., 0., 0., 0., 0., 0., 0., 0., 0., 0., 0., 0.,\n",
      "         0., 0., 0., 0., 0., 0., 0., 0., 0., 0., 0., 0., 0., 0., 0., 0., 0., 0., 0., 0., 0., 0., 0., 0.,\n",
      "         0., 0., 0., 0., 0., 0., 0., 0., 0., 0., 0., 0., 0., 0., 0., 0., 0., 0., 0., 0., 0., 0., 0., 0.,\n",
      "         0., 0., 0., 0., 0., 0., 0., 0., 0., 0., 0., 0., 0., 0., 0., 0., 0., 0., 0., 0., 0., 0., 0., 0.,\n",
      "         0., 0., 0., 0., 0., 0., 0., 0., 0., 0., 0., 0., 0., 0., 0., 0., 0., 0., 0., 0., 0., 0., 0., 0.,\n",
      "         0., 0., 0., 0., 0., 0., 0., 0., 0., 0., 0., 0., 0., 0., 0., 0., 0., 0., 0., 0., 0., 0., 0., 0.,\n",
      "         0., 0., 0., 0., 0., 0., 0., 0., 0., 0., 0., 0., 0., 0., 0., 0., 0., 0., 0., 0., 0., 0., 0., 0.,\n",
      "         0., 0., 0., 0., 0., 0., 0., 0., 0., 0., 0., 0., 0., 0., 0., 0., 0., 0., 0., 0., 0., 0., 0., 0.,\n",
      "         0., 0., 0., 0., 0., 0., 0., 0., 0.]], grad_fn=<ReluBackward0>)\n",
      "airplane\n"
     ]
    },
    {
     "data": {
      "image/png": "[encoded data removed]",
      "text/plain": [
       "<Figure size 640x480 with 1 Axes>"
      ]
     },
     "metadata": {},
     "output_type": "display_data"
    }
   ],
   "source": [
    "i = 101\n",
    "img, label = train_set[i]\n",
    "# print(img.shape)\n",
    "\n",
    "plt.title(categories[label])\n",
    "plt.imshow(img[0])\n",
    "\n",
    "img = img.unsqueeze(0)\n",
    "\n",
    "out = minialexnet(img)\n",
    "\n",
    "print(out)\n",
    "\n",
    "torch.argmax(out)\n",
    "\n",
    "print(categories[label])"
   ]
  },
  {
   "cell_type": "markdown",
   "id": "251bee0d",
   "metadata": {},
   "source": [
    "### Evaluate Model"
   ]
  },
  {
   "cell_type": "code",
   "execution_count": null,
   "id": "94462ec3",
   "metadata": {},
   "outputs": [],
   "source": []
  },
  {
   "cell_type": "code",
   "execution_count": null,
   "id": "b891b604",
   "metadata": {},
   "outputs": [],
   "source": []
  },
  {
   "cell_type": "code",
   "execution_count": null,
   "id": "aa579984",
   "metadata": {},
   "outputs": [],
   "source": []
  },
  {
   "cell_type": "code",
   "execution_count": null,
   "id": "51a05a49",
   "metadata": {},
   "outputs": [],
   "source": []
  },
  {
   "cell_type": "code",
   "execution_count": null,
   "id": "5fabce86",
   "metadata": {},
   "outputs": [],
   "source": []
  }
 ],
 "metadata": {
  "kernelspec": {
   "display_name": "Python 3 (ipykernel)",
   "language": "python",
   "name": "python3"
  },
  "language_info": {
   "codemirror_mode": {
    "name": "ipython",
    "version": 3
   },
   "file_extension": ".py",
   "mimetype": "text/x-python",
   "name": "python",
   "nbconvert_exporter": "python",
   "pygments_lexer": "ipython3",
   "version": "3.11.2"
  }
 },
 "nbformat": 4,
 "nbformat_minor": 5
}
