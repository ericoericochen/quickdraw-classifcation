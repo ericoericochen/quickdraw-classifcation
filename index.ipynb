{
 "cells": [
  {
   "cell_type": "code",
   "execution_count": 7,
   "id": "ed08e7ea",
   "metadata": {},
   "outputs": [],
   "source": [
    "import torch\n",
    "import torch.nn as nn\n",
    "import matplotlib.pyplot as plt\n",
    "from google.cloud import storage\n",
    "from binary_file_parser import unpack_drawings"
   ]
  },
  {
   "cell_type": "code",
   "execution_count": 8,
   "id": "622e7326",
   "metadata": {},
   "outputs": [],
   "source": [
    "def download_public_file(bucket_name, source_blob_name, destination_file_name):\n",
    "    \"\"\"Downloads a public blob from the bucket.\"\"\"\n",
    "    # bucket_name = \"your-bucket-name\"\n",
    "    # source_blob_name = \"storage-object-name\"\n",
    "    # destination_file_name = \"local/path/to/file\"\n",
    "\n",
    "    storage_client = storage.Client.create_anonymous_client()\n",
    "\n",
    "    bucket = storage_client.bucket(bucket_name)\n",
    "    blob = bucket.blob(source_blob_name)\n",
    "    blob.download_to_filename(destination_file_name)\n",
    "\n",
    "    print(\n",
    "        \"Downloaded public blob {} from bucket {} to {}.\".format(\n",
    "            source_blob_name, bucket.name, destination_file_name\n",
    "        )\n",
    "    )"
   ]
  },
  {
   "cell_type": "code",
   "execution_count": 12,
   "id": "ed8ee591",
   "metadata": {},
   "outputs": [
    {
     "name": "stdout",
     "output_type": "stream",
     "text": [
      "Downloaded public blob full/binary/airplane.bin from bucket quickdraw_dataset to data.bin.\n"
     ]
    }
   ],
   "source": [
    "download_public_file(\"quickdraw_dataset\", \"full/binary/airplane.bin\", \"data.bin\")"
   ]
  },
  {
   "cell_type": "code",
   "execution_count": null,
   "id": "57c220d3",
   "metadata": {},
   "outputs": [],
   "source": []
  }
 ],
 "metadata": {
  "kernelspec": {
   "display_name": "Python 3 (ipykernel)",
   "language": "python",
   "name": "python3"
  },
  "language_info": {
   "codemirror_mode": {
    "name": "ipython",
    "version": 3
   },
   "file_extension": ".py",
   "mimetype": "text/x-python",
   "name": "python",
   "nbconvert_exporter": "python",
   "pygments_lexer": "ipython3",
   "version": "3.9.16"
  }
 },
 "nbformat": 4,
 "nbformat_minor": 5
}
